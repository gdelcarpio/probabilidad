{
  "nbformat": 4,
  "nbformat_minor": 0,
  "metadata": {
    "colab": {
      "provenance": []
    },
    "kernelspec": {
      "name": "python3",
      "display_name": "Python 3"
    },
    "language_info": {
      "name": "python"
    }
  },
  "cells": [
    {
      "cell_type": "code",
      "source": [],
      "metadata": {
        "id": "QHri617s8Q4G"
      },
      "execution_count": null,
      "outputs": []
    },
    {
      "cell_type": "code",
      "source": [
        "!pip install pgmpy"
      ],
      "metadata": {
        "colab": {
          "base_uri": "https://localhost:8080/"
        },
        "id": "NDepmES98PTw",
        "outputId": "872372f2-9d5c-4a36-8afa-a2c037b837ce"
      },
      "execution_count": 2,
      "outputs": [
        {
          "output_type": "stream",
          "name": "stdout",
          "text": [
            "Collecting pgmpy\n",
            "  Downloading pgmpy-0.1.25-py3-none-any.whl (2.0 MB)\n",
            "\u001b[2K     \u001b[90m━━━━━━━━━━━━━━━━━━━━━━━━━━━━━━━━━━━━━━━━\u001b[0m \u001b[32m2.0/2.0 MB\u001b[0m \u001b[31m21.7 MB/s\u001b[0m eta \u001b[36m0:00:00\u001b[0m\n",
            "\u001b[?25hRequirement already satisfied: networkx in /usr/local/lib/python3.10/dist-packages (from pgmpy) (3.3)\n",
            "Requirement already satisfied: numpy in /usr/local/lib/python3.10/dist-packages (from pgmpy) (1.25.2)\n",
            "Requirement already satisfied: scipy in /usr/local/lib/python3.10/dist-packages (from pgmpy) (1.11.4)\n",
            "Requirement already satisfied: scikit-learn in /usr/local/lib/python3.10/dist-packages (from pgmpy) (1.2.2)\n",
            "Requirement already satisfied: pandas in /usr/local/lib/python3.10/dist-packages (from pgmpy) (2.0.3)\n",
            "Requirement already satisfied: pyparsing in /usr/local/lib/python3.10/dist-packages (from pgmpy) (3.1.2)\n",
            "Requirement already satisfied: torch in /usr/local/lib/python3.10/dist-packages (from pgmpy) (2.3.0+cu121)\n",
            "Requirement already satisfied: statsmodels in /usr/local/lib/python3.10/dist-packages (from pgmpy) (0.14.2)\n",
            "Requirement already satisfied: tqdm in /usr/local/lib/python3.10/dist-packages (from pgmpy) (4.66.4)\n",
            "Requirement already satisfied: joblib in /usr/local/lib/python3.10/dist-packages (from pgmpy) (1.4.2)\n",
            "Requirement already satisfied: opt-einsum in /usr/local/lib/python3.10/dist-packages (from pgmpy) (3.3.0)\n",
            "Requirement already satisfied: python-dateutil>=2.8.2 in /usr/local/lib/python3.10/dist-packages (from pandas->pgmpy) (2.8.2)\n",
            "Requirement already satisfied: pytz>=2020.1 in /usr/local/lib/python3.10/dist-packages (from pandas->pgmpy) (2023.4)\n",
            "Requirement already satisfied: tzdata>=2022.1 in /usr/local/lib/python3.10/dist-packages (from pandas->pgmpy) (2024.1)\n",
            "Requirement already satisfied: threadpoolctl>=2.0.0 in /usr/local/lib/python3.10/dist-packages (from scikit-learn->pgmpy) (3.5.0)\n",
            "Requirement already satisfied: patsy>=0.5.6 in /usr/local/lib/python3.10/dist-packages (from statsmodels->pgmpy) (0.5.6)\n",
            "Requirement already satisfied: packaging>=21.3 in /usr/local/lib/python3.10/dist-packages (from statsmodels->pgmpy) (24.1)\n",
            "Requirement already satisfied: filelock in /usr/local/lib/python3.10/dist-packages (from torch->pgmpy) (3.15.1)\n",
            "Requirement already satisfied: typing-extensions>=4.8.0 in /usr/local/lib/python3.10/dist-packages (from torch->pgmpy) (4.12.2)\n",
            "Requirement already satisfied: sympy in /usr/local/lib/python3.10/dist-packages (from torch->pgmpy) (1.12.1)\n",
            "Requirement already satisfied: jinja2 in /usr/local/lib/python3.10/dist-packages (from torch->pgmpy) (3.1.4)\n",
            "Requirement already satisfied: fsspec in /usr/local/lib/python3.10/dist-packages (from torch->pgmpy) (2023.6.0)\n",
            "Collecting nvidia-cuda-nvrtc-cu12==12.1.105 (from torch->pgmpy)\n",
            "  Using cached nvidia_cuda_nvrtc_cu12-12.1.105-py3-none-manylinux1_x86_64.whl (23.7 MB)\n",
            "Collecting nvidia-cuda-runtime-cu12==12.1.105 (from torch->pgmpy)\n",
            "  Using cached nvidia_cuda_runtime_cu12-12.1.105-py3-none-manylinux1_x86_64.whl (823 kB)\n",
            "Collecting nvidia-cuda-cupti-cu12==12.1.105 (from torch->pgmpy)\n",
            "  Using cached nvidia_cuda_cupti_cu12-12.1.105-py3-none-manylinux1_x86_64.whl (14.1 MB)\n",
            "Collecting nvidia-cudnn-cu12==8.9.2.26 (from torch->pgmpy)\n",
            "  Using cached nvidia_cudnn_cu12-8.9.2.26-py3-none-manylinux1_x86_64.whl (731.7 MB)\n",
            "Collecting nvidia-cublas-cu12==12.1.3.1 (from torch->pgmpy)\n",
            "  Using cached nvidia_cublas_cu12-12.1.3.1-py3-none-manylinux1_x86_64.whl (410.6 MB)\n",
            "Collecting nvidia-cufft-cu12==11.0.2.54 (from torch->pgmpy)\n",
            "  Using cached nvidia_cufft_cu12-11.0.2.54-py3-none-manylinux1_x86_64.whl (121.6 MB)\n",
            "Collecting nvidia-curand-cu12==10.3.2.106 (from torch->pgmpy)\n",
            "  Using cached nvidia_curand_cu12-10.3.2.106-py3-none-manylinux1_x86_64.whl (56.5 MB)\n",
            "Collecting nvidia-cusolver-cu12==11.4.5.107 (from torch->pgmpy)\n",
            "  Using cached nvidia_cusolver_cu12-11.4.5.107-py3-none-manylinux1_x86_64.whl (124.2 MB)\n",
            "Collecting nvidia-cusparse-cu12==12.1.0.106 (from torch->pgmpy)\n",
            "  Using cached nvidia_cusparse_cu12-12.1.0.106-py3-none-manylinux1_x86_64.whl (196.0 MB)\n",
            "Collecting nvidia-nccl-cu12==2.20.5 (from torch->pgmpy)\n",
            "  Using cached nvidia_nccl_cu12-2.20.5-py3-none-manylinux2014_x86_64.whl (176.2 MB)\n",
            "Collecting nvidia-nvtx-cu12==12.1.105 (from torch->pgmpy)\n",
            "  Using cached nvidia_nvtx_cu12-12.1.105-py3-none-manylinux1_x86_64.whl (99 kB)\n",
            "Requirement already satisfied: triton==2.3.0 in /usr/local/lib/python3.10/dist-packages (from torch->pgmpy) (2.3.0)\n",
            "Collecting nvidia-nvjitlink-cu12 (from nvidia-cusolver-cu12==11.4.5.107->torch->pgmpy)\n",
            "  Downloading nvidia_nvjitlink_cu12-12.5.40-py3-none-manylinux2014_x86_64.whl (21.3 MB)\n",
            "\u001b[2K     \u001b[90m━━━━━━━━━━━━━━━━━━━━━━━━━━━━━━━━━━━━━━━━\u001b[0m \u001b[32m21.3/21.3 MB\u001b[0m \u001b[31m60.7 MB/s\u001b[0m eta \u001b[36m0:00:00\u001b[0m\n",
            "\u001b[?25hRequirement already satisfied: six in /usr/local/lib/python3.10/dist-packages (from patsy>=0.5.6->statsmodels->pgmpy) (1.16.0)\n",
            "Requirement already satisfied: MarkupSafe>=2.0 in /usr/local/lib/python3.10/dist-packages (from jinja2->torch->pgmpy) (2.1.5)\n",
            "Requirement already satisfied: mpmath<1.4.0,>=1.1.0 in /usr/local/lib/python3.10/dist-packages (from sympy->torch->pgmpy) (1.3.0)\n",
            "Installing collected packages: nvidia-nvtx-cu12, nvidia-nvjitlink-cu12, nvidia-nccl-cu12, nvidia-curand-cu12, nvidia-cufft-cu12, nvidia-cuda-runtime-cu12, nvidia-cuda-nvrtc-cu12, nvidia-cuda-cupti-cu12, nvidia-cublas-cu12, nvidia-cusparse-cu12, nvidia-cudnn-cu12, nvidia-cusolver-cu12, pgmpy\n",
            "Successfully installed nvidia-cublas-cu12-12.1.3.1 nvidia-cuda-cupti-cu12-12.1.105 nvidia-cuda-nvrtc-cu12-12.1.105 nvidia-cuda-runtime-cu12-12.1.105 nvidia-cudnn-cu12-8.9.2.26 nvidia-cufft-cu12-11.0.2.54 nvidia-curand-cu12-10.3.2.106 nvidia-cusolver-cu12-11.4.5.107 nvidia-cusparse-cu12-12.1.0.106 nvidia-nccl-cu12-2.20.5 nvidia-nvjitlink-cu12-12.5.40 nvidia-nvtx-cu12-12.1.105 pgmpy-0.1.25\n"
          ]
        }
      ]
    },
    {
      "cell_type": "code",
      "source": [
        "from pgmpy.models import BayesianModel\n",
        "from pgmpy.models import BayesianNetwork\n",
        "from pgmpy.factors.discrete import TabularCPD"
      ],
      "metadata": {
        "id": "Lj-emqEt8Ume"
      },
      "execution_count": 3,
      "outputs": []
    },
    {
      "cell_type": "code",
      "execution_count": 77,
      "metadata": {
        "id": "xEGKl-aQ50z5"
      },
      "outputs": [],
      "source": [
        "# Turno (T);\n",
        "# Cambio de Formato Previo (CF);\n",
        "# Duración de la Parada (DP);\n",
        "# Sistema (S),\n",
        "# Criticidad (C);\n",
        "# Componente (CM)\n",
        "# Tipo de falla (TF);\n",
        "# Causa de Falla (CUF);\n",
        "# Mantenimiento Preventivo (MP);\n",
        "# Tiempo entre fallas (TEF)\n",
        "\n",
        "model_1 = BayesianNetwork([('T','CF'), ('CF','DP'), ('S','C'),('C', 'DP'), ('S','CM'), ('CM','TF'), ('TF','CUF'), ('CUF','DP'), ('CUF','TEF'),('MP', 'TEF')])\n",
        "\n",
        "\n",
        "\n",
        "\n"
      ]
    },
    {
      "cell_type": "code",
      "source": [
        "\n",
        "# Definimos las distribuciones de probabilidad condicional (CPDs) para cada nodo\n",
        "cpd_T = TabularCPD(variable='T', variable_card=3, values=[[0.32], [0.37], [0.31]])\n",
        "cpd_S = TabularCPD(variable='S', variable_card=3, values=[[0.07], [0.36], [0.57]])\n",
        "cpd_CF = TabularCPD(variable='CF', variable_card=2, values=[[1, 0.96, 0.98], [0, 0.04, 0.02]], evidence=['T'], evidence_card=[3])\n",
        "cpd_C = TabularCPD(variable='C', variable_card=3, values=[[0.36, 0.28, 0.25], [0.45, 0.61,  0.66], [0.18, 0.11,  0.09]], evidence=['S'], evidence_card=[3])\n",
        "cpd_CM = TabularCPD(variable='CM', variable_card=4, values=[[0.19, 0.15, 0.04], [0.45, 0.65, 0.09], [0, 0.2,  0], [0.36, 0, 0.87]], evidence=['S'], evidence_card=[3])\n",
        "cpd_TF = TabularCPD(variable='TF', variable_card=3, values=[[0, 0.35, 0.09, 0.52], [0.46, 0.52, 0.45, 0.29], [0.54, 0.13,0.45, 0.19]], evidence=['CM'], evidence_card=[4])\n",
        "cpd_CUF = TabularCPD(variable='CUF', variable_card=4, values=[[0.55, 0.29, 0.42], [0.1, 0.17, 0.06], [0.17, 0.19, 0.18], [0.18, 0.35, 0.34]], evidence=['TF'], evidence_card=[3])\n",
        "cpd_MP = TabularCPD(variable='MP', variable_card=2, values=[[0.03], [0.97]])\n",
        "cpd_TEF = TabularCPD(variable='TEF', variable_card=3, values=[[0.30, 0.50, 0.56, 0.33, 0, 1,0,1], [0.41, 0.44, 0.24, 0.45, 0, 0,1,0], [0.29, 0.06, 0.20, 0.22, 1, 0,0,0]], evidence=['MP','CUF'], evidence_card=[2,4])\n",
        "\n",
        "cpd_DP = TabularCPD(variable='DP', variable_card=4,\n",
        "                    values=[\n",
        "                          [0.33, 0.43, 0.44, 0.30, 0.34, 0.56, 0.53, 0.24, 0.38, 0.00, 0.00, 0.50, 1.00, 1.00, 1.00, 1.00, 1.00, 1.00, 1.00, 1.00, 1.00, 1.00, 1.00, 1.00],\n",
        "                          [0.00, 0.00, 0.00, 0.00, 0.02, 0.00, 0.00, 0.00, 0.00, 0.00, 0.00, 0.00, 0.00, 0.00, 0.00, 0.00, 0.00, 0.00, 0.00, 0.00, 0.00, 0.00, 0.00, 0.00],\n",
        "                          [0.00, 0.00, 0.11, 0.00, 0.05, 0.00, 0.13, 0.14, 0.13, 0.00, 0.00, 0.25, 0.00, 0.00, 0.00, 0.00, 0.00, 0.00, 0.00, 0.00, 0.00, 0.00, 0.00, 0.00],\n",
        "                          [0.67, 0.57, 0.44, 0.70, 0.59, 0.44, 0.33, 0.62, 0.50, 1.00, 1.00, 0.25, 0.00, 0.00, 0.00, 0.00, 0.00, 0.00, 0.00, 0.00, 0.00, 0.00, 0.00, 0.00]\n",
        "                        ], evidence=['CF','CUF','C'], evidence_card=[2, 4,3])\n",
        "\n",
        "\n",
        "\n",
        "\n"
      ],
      "metadata": {
        "id": "lD-h9ymJ6MlP"
      },
      "execution_count": 78,
      "outputs": []
    },
    {
      "cell_type": "code",
      "source": [
        "model_1.add_cpds(cpd_T, cpd_S, cpd_CF, cpd_C, cpd_CM, cpd_TF, cpd_CUF, cpd_MP, cpd_TEF, cpd_DP )"
      ],
      "metadata": {
        "id": "oaVIidg1AAEv"
      },
      "execution_count": 79,
      "outputs": []
    },
    {
      "cell_type": "code",
      "source": [
        "model_1.check_model()"
      ],
      "metadata": {
        "colab": {
          "base_uri": "https://localhost:8080/"
        },
        "id": "zNwi0T2F_aUP",
        "outputId": "679869ce-e0b1-4ce3-ed9a-97c8d4923db8"
      },
      "execution_count": 80,
      "outputs": [
        {
          "output_type": "execute_result",
          "data": {
            "text/plain": [
              "True"
            ]
          },
          "metadata": {},
          "execution_count": 80
        }
      ]
    },
    {
      "cell_type": "code",
      "source": [
        "import networkx as nx\n",
        "import pylab as plt\n",
        "\n",
        "nx_graph = nx.DiGraph(model_1.edges())\n",
        "nx.draw(nx_graph, with_labels=True)\n",
        "plt.show()"
      ],
      "metadata": {
        "colab": {
          "base_uri": "https://localhost:8080/",
          "height": 516
        },
        "id": "Qy8p6sF38znp",
        "outputId": "a58fe5ba-adec-43b0-bc58-7cfb876a8120"
      },
      "execution_count": 81,
      "outputs": [
        {
          "output_type": "display_data",
          "data": {
            "text/plain": [
              "<Figure size 640x480 with 1 Axes>"
            ],
            "image/png": "[encoded data removed]"
          },
          "metadata": {}
        }
      ]
    },
    {
      "cell_type": "code",
      "source": [
        "print(cpd_T)\n",
        "print(cpd_S)\n",
        "print(cpd_CF)\n",
        "print(cpd_C)\n",
        "print(cpd_CM)\n",
        "print(cpd_TF)\n",
        "print(cpd_CUF)\n",
        "print(cpd_MP)\n",
        "print(cpd_TEF)\n",
        "print(cpd_DP)"
      ],
      "metadata": {
        "colab": {
          "base_uri": "https://localhost:8080/"
        },
        "id": "Wnkgr3dhLjip",
        "outputId": "a7c96e27-5f30-4f3f-c53f-8ccab18b3657"
      },
      "execution_count": 84,
      "outputs": [
        {
          "output_type": "stream",
          "name": "stdout",
          "text": [
            "+------+------+\n",
            "| T(0) | 0.32 |\n",
            "+------+------+\n",
            "| T(1) | 0.37 |\n",
            "+------+------+\n",
            "| T(2) | 0.31 |\n",
            "+------+------+\n",
            "+------+------+\n",
            "| S(0) | 0.07 |\n",
            "+------+------+\n",
            "| S(1) | 0.36 |\n",
            "+------+------+\n",
            "| S(2) | 0.57 |\n",
            "+------+------+\n",
            "+-------+------+------+------+\n",
            "| T     | T(0) | T(1) | T(2) |\n",
            "+-------+------+------+------+\n",
            "| CF(0) | 1.0  | 0.96 | 0.98 |\n",
            "+-------+------+------+------+\n",
            "| CF(1) | 0.0  | 0.04 | 0.02 |\n",
            "+-------+------+------+------+\n",
            "+------+------+------+------+\n",
            "| S    | S(0) | S(1) | S(2) |\n",
            "+------+------+------+------+\n",
            "| C(0) | 0.36 | 0.28 | 0.25 |\n",
            "+------+------+------+------+\n",
            "| C(1) | 0.45 | 0.61 | 0.66 |\n",
            "+------+------+------+------+\n",
            "| C(2) | 0.18 | 0.11 | 0.09 |\n",
            "+------+------+------+------+\n",
            "+-------+------+------+------+\n",
            "| S     | S(0) | S(1) | S(2) |\n",
            "+-------+------+------+------+\n",
            "| CM(0) | 0.19 | 0.15 | 0.04 |\n",
            "+-------+------+------+------+\n",
            "| CM(1) | 0.45 | 0.65 | 0.09 |\n",
            "+-------+------+------+------+\n",
            "| CM(2) | 0.0  | 0.2  | 0.0  |\n",
            "+-------+------+------+------+\n",
            "| CM(3) | 0.36 | 0.0  | 0.87 |\n",
            "+-------+------+------+------+\n",
            "+-------+-------+-------+-------+-------+\n",
            "| CM    | CM(0) | CM(1) | CM(2) | CM(3) |\n",
            "+-------+-------+-------+-------+-------+\n",
            "| TF(0) | 0.0   | 0.35  | 0.09  | 0.52  |\n",
            "+-------+-------+-------+-------+-------+\n",
            "| TF(1) | 0.46  | 0.52  | 0.45  | 0.29  |\n",
            "+-------+-------+-------+-------+-------+\n",
            "| TF(2) | 0.54  | 0.13  | 0.45  | 0.19  |\n",
            "+-------+-------+-------+-------+-------+\n",
            "+--------+-------+-------+-------+\n",
            "| TF     | TF(0) | TF(1) | TF(2) |\n",
            "+--------+-------+-------+-------+\n",
            "| CUF(0) | 0.55  | 0.29  | 0.42  |\n",
            "+--------+-------+-------+-------+\n",
            "| CUF(1) | 0.1   | 0.17  | 0.06  |\n",
            "+--------+-------+-------+-------+\n",
            "| CUF(2) | 0.17  | 0.19  | 0.18  |\n",
            "+--------+-------+-------+-------+\n",
            "| CUF(3) | 0.18  | 0.35  | 0.34  |\n",
            "+--------+-------+-------+-------+\n",
            "+-------+------+\n",
            "| MP(0) | 0.03 |\n",
            "+-------+------+\n",
            "| MP(1) | 0.97 |\n",
            "+-------+------+\n",
            "+--------+--------+--------+--------+--------+--------+--------+--------+--------+\n",
            "| MP     | MP(0)  | MP(0)  | MP(0)  | MP(0)  | MP(1)  | MP(1)  | MP(1)  | MP(1)  |\n",
            "+--------+--------+--------+--------+--------+--------+--------+--------+--------+\n",
            "| CUF    | CUF(0) | CUF(1) | CUF(2) | CUF(3) | CUF(0) | CUF(1) | CUF(2) | CUF(3) |\n",
            "+--------+--------+--------+--------+--------+--------+--------+--------+--------+\n",
            "| TEF(0) | 0.3    | 0.5    | 0.56   | 0.33   | 0.0    | 1.0    | 0.0    | 1.0    |\n",
            "+--------+--------+--------+--------+--------+--------+--------+--------+--------+\n",
            "| TEF(1) | 0.41   | 0.44   | 0.24   | 0.45   | 0.0    | 0.0    | 1.0    | 0.0    |\n",
            "+--------+--------+--------+--------+--------+--------+--------+--------+--------+\n",
            "| TEF(2) | 0.29   | 0.06   | 0.2    | 0.22   | 1.0    | 0.0    | 0.0    | 0.0    |\n",
            "+--------+--------+--------+--------+--------+--------+--------+--------+--------+\n",
            "+-------+--------+--------+--------+--------+-----+--------+--------+--------+--------+--------+\n",
            "| CF    | CF(0)  | CF(0)  | CF(0)  | CF(0)  | ... | CF(1)  | CF(1)  | CF(1)  | CF(1)  | CF(1)  |\n",
            "+-------+--------+--------+--------+--------+-----+--------+--------+--------+--------+--------+\n",
            "| CUF   | CUF(0) | CUF(0) | CUF(0) | CUF(1) | ... | CUF(2) | CUF(2) | CUF(3) | CUF(3) | CUF(3) |\n",
            "+-------+--------+--------+--------+--------+-----+--------+--------+--------+--------+--------+\n",
            "| C     | C(0)   | C(1)   | C(2)   | C(0)   | ... | C(1)   | C(2)   | C(0)   | C(1)   | C(2)   |\n",
            "+-------+--------+--------+--------+--------+-----+--------+--------+--------+--------+--------+\n",
            "| DP(0) | 0.33   | 0.43   | 0.44   | 0.3    | ... | 1.0    | 1.0    | 1.0    | 1.0    | 1.0    |\n",
            "+-------+--------+--------+--------+--------+-----+--------+--------+--------+--------+--------+\n",
            "| DP(1) | 0.0    | 0.0    | 0.0    | 0.0    | ... | 0.0    | 0.0    | 0.0    | 0.0    | 0.0    |\n",
            "+-------+--------+--------+--------+--------+-----+--------+--------+--------+--------+--------+\n",
            "| DP(2) | 0.0    | 0.0    | 0.11   | 0.0    | ... | 0.0    | 0.0    | 0.0    | 0.0    | 0.0    |\n",
            "+-------+--------+--------+--------+--------+-----+--------+--------+--------+--------+--------+\n",
            "| DP(3) | 0.67   | 0.57   | 0.44   | 0.7    | ... | 0.0    | 0.0    | 0.0    | 0.0    | 0.0    |\n",
            "+-------+--------+--------+--------+--------+-----+--------+--------+--------+--------+--------+\n"
          ]
        }
      ]
    },
    {
      "cell_type": "markdown",
      "source": [
        "### Inferencias"
      ],
      "metadata": {
        "id": "oolMz5CgMG8R"
      }
    },
    {
      "cell_type": "markdown",
      "source": [],
      "metadata": {
        "id": "YqOZxoHsMD9A"
      }
    },
    {
      "cell_type": "code",
      "source": [
        "from pgmpy.inference import VariableElimination\n",
        "infer = VariableElimination(model_1)"
      ],
      "metadata": {
        "id": "tlZHnVU7MGIl"
      },
      "execution_count": 85,
      "outputs": []
    },
    {
      "cell_type": "markdown",
      "source": [
        "1. ¿Cuál es la probabilidad de ocurrencia de parada corta dado una criticidad media, de sistema de calentamiento y que la causa de la falla haya sido por desgaste y capacidad?."
      ],
      "metadata": {
        "id": "tJX6tP2MMYSk"
      }
    },
    {
      "cell_type": "code",
      "source": [
        "inferir_p1 = infer.query([\"DP\"], evidence={\"C\": 1, 'S':0, \"CUF\":0})\n",
        "print(inferir_p1)\n",
        "print('La probabilidad es: ',inferir_p1.values[0]*100,\" %\")"
      ],
      "metadata": {
        "colab": {
          "base_uri": "https://localhost:8080/"
        },
        "id": "1TqBFA6JMXi3",
        "outputId": "768389e5-cf38-4c84-ee36-5702a6a74eeb"
      },
      "execution_count": 91,
      "outputs": [
        {
          "output_type": "stream",
          "name": "stdout",
          "text": [
            "+-------+-----------+\n",
            "| DP    |   phi(DP) |\n",
            "+=======+===========+\n",
            "| DP(0) |    0.4420 |\n",
            "+-------+-----------+\n",
            "| DP(1) |    0.0000 |\n",
            "+-------+-----------+\n",
            "| DP(2) |    0.0000 |\n",
            "+-------+-----------+\n",
            "| DP(3) |    0.5580 |\n",
            "+-------+-----------+\n",
            "La probabilidad es:  44.197  %\n"
          ]
        }
      ]
    },
    {
      "cell_type": "markdown",
      "source": [
        "2. ¿Cuál es la probabilidad de ocurrencia de parada moderada dado una falla de tipo Mecánica y ajuste, que el componente haya sido de movimiento y que haya sido en el primer turno?."
      ],
      "metadata": {
        "id": "Pp8JSTKVMYQS"
      }
    },
    {
      "cell_type": "code",
      "source": [
        "inferir_p2 = infer.query([\"DP\"], evidence={\"TF\": 1, 'CM':2, \"T\":0})\n",
        "print(inferir_p2)\n",
        "print('La probabilidad es: ',inferir_p2.values[2]*100,\" %\")"
      ],
      "metadata": {
        "colab": {
          "base_uri": "https://localhost:8080/"
        },
        "id": "zRm1fwDfOUvT",
        "outputId": "9246abd3-8340-4e0d-f045-429cd31014bb"
      },
      "execution_count": 95,
      "outputs": [
        {
          "output_type": "stream",
          "name": "stdout",
          "text": [
            "+-------+-----------+\n",
            "| DP    |   phi(DP) |\n",
            "+=======+===========+\n",
            "| DP(0) |    0.2603 |\n",
            "+-------+-----------+\n",
            "| DP(1) |    0.0021 |\n",
            "+-------+-----------+\n",
            "| DP(2) |    0.0442 |\n",
            "+-------+-----------+\n",
            "| DP(3) |    0.6934 |\n",
            "+-------+-----------+\n",
            "La probabilidad es:  4.420638049627861  %\n"
          ]
        }
      ]
    },
    {
      "cell_type": "markdown",
      "source": [
        "3. ¿Cuál es la probabilidad de ocurrencia de parada extensa dado que se cambió el formato de producción, en la tarde, en un sistema de calentamiento, y criticidad baja?."
      ],
      "metadata": {
        "id": "V60hxiA9MYOE"
      }
    },
    {
      "cell_type": "code",
      "source": [
        "inferir_p3 = infer.query([\"DP\"], evidence={\"CF\": 1, 'T':1, \"S\":0, 'C':2})\n",
        "print(inferir_p3)\n",
        "print('La probabilidad es: ',inferir_p3.values[1]*100,\" %\")"
      ],
      "metadata": {
        "colab": {
          "base_uri": "https://localhost:8080/"
        },
        "id": "utRfhoiFOob_",
        "outputId": "7497e6b5-bf98-4e8e-8ad0-1db85a9b9b0d"
      },
      "execution_count": 96,
      "outputs": [
        {
          "output_type": "stream",
          "name": "stdout",
          "text": [
            "+-------+-----------+\n",
            "| DP    |   phi(DP) |\n",
            "+=======+===========+\n",
            "| DP(0) |    1.0000 |\n",
            "+-------+-----------+\n",
            "| DP(1) |    0.0000 |\n",
            "+-------+-----------+\n",
            "| DP(2) |    0.0000 |\n",
            "+-------+-----------+\n",
            "| DP(3) |    0.0000 |\n",
            "+-------+-----------+\n",
            "La probabilidad es:  0.0  %\n"
          ]
        }
      ]
    },
    {
      "cell_type": "markdown",
      "source": [
        "4. ¿Cuál es la probabilidad de tener un tiempo entre fallas cortas dado que la causa era de diseño y fabricación, no tuvo mantenimiento preventivo previo y el tipo de falla sea de calentamiento?"
      ],
      "metadata": {
        "id": "O6tgGGWdMYLP"
      }
    },
    {
      "cell_type": "code",
      "source": [
        "inferir_p4 = infer.query([\"TEF\"], evidence={\"CUF\": 2, 'MP':1, \"TF\":2})\n",
        "print(inferir_p4)\n",
        "print('La probabilidad es: ',inferir_p4.values[0]*100,\" %\")"
      ],
      "metadata": {
        "colab": {
          "base_uri": "https://localhost:8080/"
        },
        "id": "73U4MYGnO_Nl",
        "outputId": "eb4fd59a-fcce-432d-c2f6-766f5306cf21"
      },
      "execution_count": 94,
      "outputs": [
        {
          "output_type": "stream",
          "name": "stdout",
          "text": [
            "+--------+------------+\n",
            "| TEF    |   phi(TEF) |\n",
            "+========+============+\n",
            "| TEF(0) |     0.0000 |\n",
            "+--------+------------+\n",
            "| TEF(1) |     1.0000 |\n",
            "+--------+------------+\n",
            "| TEF(2) |     0.0000 |\n",
            "+--------+------------+\n",
            "La probabilidad es:  0.0  %\n"
          ]
        }
      ]
    },
    {
      "cell_type": "markdown",
      "source": [
        "5. ¿Cuál es la probabilidad de tener un tiempo entre fallas media dado que el sistema sea de procesos térmico, el tipo de falla fue de eléctricas y no hubo mantenimiento preventivo previo?"
      ],
      "metadata": {
        "id": "I0YTVnA0MYFu"
      }
    },
    {
      "cell_type": "code",
      "source": [
        "inferir_p5 = infer.query([\"TEF\"], evidence={\"S\": 2, 'TF':0, \"MP\":1})\n",
        "print(inferir_p5)\n",
        "print('La probabilidad es: ',inferir_p5.values[1]*100,\" %\")"
      ],
      "metadata": {
        "colab": {
          "base_uri": "https://localhost:8080/"
        },
        "id": "McvIS6CQPg9k",
        "outputId": "d1d7ffa5-5edd-431d-b8d7-9d2e0634464c"
      },
      "execution_count": 97,
      "outputs": [
        {
          "output_type": "stream",
          "name": "stdout",
          "text": [
            "+--------+------------+\n",
            "| TEF    |   phi(TEF) |\n",
            "+========+============+\n",
            "| TEF(0) |     0.2800 |\n",
            "+--------+------------+\n",
            "| TEF(1) |     0.1700 |\n",
            "+--------+------------+\n",
            "| TEF(2) |     0.5500 |\n",
            "+--------+------------+\n",
            "La probabilidad es:  17.0  %\n"
          ]
        }
      ]
    },
    {
      "cell_type": "markdown",
      "source": [
        "6. ¿Cuál es la probabilidad de tener un tiempo entre fallas largas dado que no tuvo mantenimiento preventivo previo, la causa de la falla es por desgaste y capacidad de un sistema mecánico eléctrico?"
      ],
      "metadata": {
        "id": "TBr6TRUhMzkk"
      }
    },
    {
      "cell_type": "code",
      "source": [
        "inferir_p6 = infer.query([\"TEF\"], evidence={\"S\": 1, 'CUF':0, \"MP\":1})\n",
        "print(inferir_p6)\n",
        "print('La probabilidad es: ',inferir_p6.values[2]*100,\" %\")"
      ],
      "metadata": {
        "colab": {
          "base_uri": "https://localhost:8080/"
        },
        "id": "5hUqKdLdP9Ii",
        "outputId": "efded393-d926-440a-e016-f384065efb73"
      },
      "execution_count": 98,
      "outputs": [
        {
          "output_type": "stream",
          "name": "stdout",
          "text": [
            "+--------+------------+\n",
            "| TEF    |   phi(TEF) |\n",
            "+========+============+\n",
            "| TEF(0) |     0.0000 |\n",
            "+--------+------------+\n",
            "| TEF(1) |     0.0000 |\n",
            "+--------+------------+\n",
            "| TEF(2) |     1.0000 |\n",
            "+--------+------------+\n",
            "La probabilidad es:  100.0  %\n"
          ]
        }
      ]
    },
    {
      "cell_type": "markdown",
      "source": [
        "7. ¿Cuál es la probabilidad de que una falla de tipo mecánicas y de ajuste (atascamiento) ocurra en el turno 3 sin conocer la criticidad del subsistema?"
      ],
      "metadata": {
        "id": "xMqBg8BuMzdK"
      }
    },
    {
      "cell_type": "code",
      "source": [
        "inferir_p7 = infer.query([\"TF\"], evidence={'T':2})\n",
        "print(inferir_p7)\n",
        "print('La probabilidad es: ',inferir_p7.values[1]*100,\" %\")"
      ],
      "metadata": {
        "colab": {
          "base_uri": "https://localhost:8080/"
        },
        "id": "jfxOzABLQRDu",
        "outputId": "f5e0dec3-6619-4255-e336-eb6c3e657a48"
      },
      "execution_count": 99,
      "outputs": [
        {
          "output_type": "stream",
          "name": "stdout",
          "text": [
            "+-------+-----------+\n",
            "| TF    |   phi(TF) |\n",
            "+=======+===========+\n",
            "| TF(0) |    0.3886 |\n",
            "+-------+-----------+\n",
            "| TF(1) |    0.3900 |\n",
            "+-------+-----------+\n",
            "| TF(2) |    0.2214 |\n",
            "+-------+-----------+\n",
            "La probabilidad es:  38.998178688655834  %\n"
          ]
        }
      ]
    },
    {
      "cell_type": "markdown",
      "source": [
        "8. ¿Cuál es la probabilidad de que un evento de falla ocurra en el turno 2 si la última intervención de mantenimiento preventivo fue realizada y el sistema es de calentamiento?"
      ],
      "metadata": {
        "id": "3brwk1ATMzUS"
      }
    },
    {
      "cell_type": "code",
      "source": [
        "inferir_p8 = infer.query([\"TF\"], evidence={'T':1,'MP':0,'S':0})\n",
        "print(inferir_p8)\n",
        "print('La probabilidad es: ',inferir_p8.values[0]*100,\" %\")"
      ],
      "metadata": {
        "colab": {
          "base_uri": "https://localhost:8080/"
        },
        "id": "dd__VWKJQk4I",
        "outputId": "ba5c72e1-8bfe-4334-dc03-dbccee128d82"
      },
      "execution_count": 100,
      "outputs": [
        {
          "output_type": "stream",
          "name": "stdout",
          "text": [
            "+-------+-----------+\n",
            "| TF    |   phi(TF) |\n",
            "+=======+===========+\n",
            "| TF(0) |    0.3447 |\n",
            "+-------+-----------+\n",
            "| TF(1) |    0.4258 |\n",
            "+-------+-----------+\n",
            "| TF(2) |    0.2295 |\n",
            "+-------+-----------+\n",
            "La probabilidad es:  34.47  %\n"
          ]
        }
      ]
    },
    {
      "cell_type": "markdown",
      "source": [
        "9. ¿Cuál es la probabilidad de que una falla por deterioro (sobrecalentamiento) ocurra en un componente térmico si el sistema es de proceso térmico y la criticidad es alta?\n"
      ],
      "metadata": {
        "id": "3qS9_gr0MzDZ"
      }
    },
    {
      "cell_type": "code",
      "source": [
        "inferir_p9 = infer.query([\"TF\"], evidence={'CM':3,'C':2,'CM':2})\n",
        "print(inferir_p9)\n",
        "print('La probabilidad es: ',inferir_p9.values[2]*100,\" %\")"
      ],
      "metadata": {
        "colab": {
          "base_uri": "https://localhost:8080/"
        },
        "id": "P3yhcIccQwi-",
        "outputId": "033a7066-d9fe-447a-f58a-271b99418e49"
      },
      "execution_count": 101,
      "outputs": [
        {
          "output_type": "stream",
          "name": "stdout",
          "text": [
            "+-------+-----------+\n",
            "| TF    |   phi(TF) |\n",
            "+=======+===========+\n",
            "| TF(0) |    0.0909 |\n",
            "+-------+-----------+\n",
            "| TF(1) |    0.4545 |\n",
            "+-------+-----------+\n",
            "| TF(2) |    0.4545 |\n",
            "+-------+-----------+\n",
            "La probabilidad es:  45.45454545454546  %\n"
          ]
        }
      ]
    },
    {
      "cell_type": "markdown",
      "source": [],
      "metadata": {
        "id": "-LZbRCrKMX8b"
      }
    },
    {
      "cell_type": "code",
      "source": [],
      "metadata": {
        "id": "r0slhPkqMRU9"
      },
      "execution_count": null,
      "outputs": []
    }
  ]
}